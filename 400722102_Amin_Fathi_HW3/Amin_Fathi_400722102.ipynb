{
  "nbformat": 4,
  "nbformat_minor": 0,
  "metadata": {
    "colab": {
      "provenance": []
    },
    "kernelspec": {
      "name": "python3",
      "display_name": "Python 3"
    },
    "language_info": {
      "name": "python"
    }
  },
  "cells": [
    {
      "cell_type": "code",
      "execution_count": 2,
      "metadata": {
        "id": "GmTZ85rHcvtx"
      },
      "outputs": [],
      "source": [
        "import pandas as pd\n",
        "import numpy as np\n",
        "import json\n",
        "import nltk\n",
        "import re\n",
        "import csv\n",
        "import matplotlib.pyplot as plt \n",
        "import seaborn as sns\n",
        "from tqdm import tqdm\n",
        "from sklearn.feature_extraction.text import TfidfVectorizer\n",
        "from sklearn.model_selection import train_test_split\n",
        "from sklearn import metrics\n",
        "\n",
        "%matplotlib inline\n",
        "pd.set_option('display.max_colwidth', 300)"
      ]
    },
    {
      "cell_type": "code",
      "source": [
        "df = pd.read_json(r'/content/drive/MyDrive/University/DM/HW3/movie_synopsis.json')\n",
        "df.to_csv('/content/drive/MyDrive/University/DM/HW3/movie_synopsis.csv')"
      ],
      "metadata": {
        "id": "947N5ZhXc56p"
      },
      "execution_count": null,
      "outputs": []
    },
    {
      "cell_type": "code",
      "source": [
        "movie_synopsis = pd.read_csv(r\"/content/drive/MyDrive/University/DM/HW3/movie_synopsis.csv\")\n",
        "movie_info = pd.read_csv(r\"/content/drive/MyDrive/University/DM/HW3/movie_info.csv\")"
      ],
      "metadata": {
        "id": "cs9JRaNzdVra"
      },
      "execution_count": 3,
      "outputs": []
    },
    {
      "cell_type": "code",
      "source": [
        "movie_synopsis"
      ],
      "metadata": {
        "colab": {
          "base_uri": "https://localhost:8080/",
          "height": 606
        },
        "id": "XOGpfLMld_ck",
        "outputId": "8b4775fc-b4f7-4da6-c416-8e56e17f5520"
      },
      "execution_count": 4,
      "outputs": [
        {
          "output_type": "execute_result",
          "data": {
            "text/plain": [
              "      _key     imdbID  \\\n",
              "0        1  tt0114709   \n",
              "1        2  tt0113189   \n",
              "2        3  tt0113101   \n",
              "3        4  tt0113161   \n",
              "4        5  tt0112722   \n",
              "...    ...        ...   \n",
              "1676  1678        NaN   \n",
              "1677  1679  tt0120594   \n",
              "1678  1680  tt0120148   \n",
              "1679  1681  tt0111804   \n",
              "1680  1682  tt0102855   \n",
              "\n",
              "                                                                                                                                                                                                                                                                                                    plot_synopsis  \\\n",
              "0     A boy called Andy Davis (voice: John Morris) uses his toys to act out a bank robbery. The bank is a cardboard box, the robber is Mr. Potato Head (voice: Don Rickles) assisted by Slinky Dog (voice: Jim Varney), and the bystanders include Bo Peep (voice: Annie Potts) and her sheep. The day is save...   \n",
              "1     The story opens in 1986, in the Cold War Soviet Union. British secret agent James Bond (Pierce Brosnan) and his fellow 00 agent, Alec Trevelyan (Sean Bean), have infiltrated a secret Soviet chemical weapons production facility with the intention of destroying it. After finding their target, a la...   \n",
              "2     The film begins with Ted the Bellhop (Tim Roth) in a room filled with hotel memorabilia, talking to Sam the Bellhop (Marc Lawrence) about what a bellhop is. It's New Year's Eve.\"The Missing Ingredient\" begins with a bunch of women (including Madonna and Lili Taylor) converging in the Honeymoon S...   \n",
              "3     Chilli Palmer (John Travolta) is a loan shark living in Miami, Florida. While sitting in a restaurant on an unusually cold day, he's approached by the cantankerous and egotistical Ray 'Bones' Barboni (Dennis Farina). Bones mocks Chilli's name in reference to the cold weather and leaves with his ...   \n",
              "4     After giving a guest lecture on criminal psychology at a local university, Dr. Helen Hudson, a respected field expert on serial killers, is cornered in the lecture hall's restroom by one of her previous subjects, Daryll Lee Cullum, who has escaped from prison. He kills a police officer and bruta...   \n",
              "...                                                                                                                                                                                                                                                                                                           ...   \n",
              "1676  The film opens on two human forms, which soon reveal themselves to be that of a young man and a frail old woman. They recline in a silence broken only by whispers and indistinguishable noises. The young man is the son (Alexei Ananishnov) who is taking care of his exhausted sick mother (Gudrun Ge...   \n",
              "1677  Alan (Jared Harris) is a schoolteacher in London who also moonlights as a jazz disc jockey for a hospital PA system.  One night after work, he goes to a bar and sees Beatrice (Asia Argento) a beautiful woman who is arguing with two men. Alan is immediately captivated by Beatrice and begins to pu...   \n",
              "1678  The film follows Helen Quilley (Gwyneth Paltrow), a young Englishwoman living in London who has just been fired from her public relations job. The plot splits into two parallel universes, based on the two paths her life could take depending on whether she catches a London Underground train or no...   \n",
              "1679                                                                                                                                                                                                                                                                                                          NaN   \n",
              "1680                                                                                                                                                                                                                                                                                                          NaN   \n",
              "\n",
              "      local_id plot_source  \n",
              "0            1        imdb  \n",
              "1            2        imdb  \n",
              "2            3        imdb  \n",
              "3            4        imdb  \n",
              "4            5        imdb  \n",
              "...        ...         ...  \n",
              "1676      1678        wiki  \n",
              "1677      1679        wiki  \n",
              "1678      1680        imdb  \n",
              "1679      1681        wiki  \n",
              "1680      1682        wiki  \n",
              "\n",
              "[1681 rows x 5 columns]"
            ],
            "text/html": [
              "\n",
              "  <div id=\"df-5175b190-87fa-41a4-b710-3a3701d5b807\">\n",
              "    <div class=\"colab-df-container\">\n",
              "      <div>\n",
              "<style scoped>\n",
              "    .dataframe tbody tr th:only-of-type {\n",
              "        vertical-align: middle;\n",
              "    }\n",
              "\n",
              "    .dataframe tbody tr th {\n",
              "        vertical-align: top;\n",
              "    }\n",
              "\n",
              "    .dataframe thead th {\n",
              "        text-align: right;\n",
              "    }\n",
              "</style>\n",
              "<table border=\"1\" class=\"dataframe\">\n",
              "  <thead>\n",
              "    <tr style=\"text-align: right;\">\n",
              "      <th></th>\n",
              "      <th>_key</th>\n",
              "      <th>imdbID</th>\n",
              "      <th>plot_synopsis</th>\n",
              "      <th>local_id</th>\n",
              "      <th>plot_source</th>\n",
              "    </tr>\n",
              "  </thead>\n",
              "  <tbody>\n",
              "    <tr>\n",
              "      <th>0</th>\n",
              "      <td>1</td>\n",
              "      <td>tt0114709</td>\n",
              "      <td>A boy called Andy Davis (voice: John Morris) uses his toys to act out a bank robbery. The bank is a cardboard box, the robber is Mr. Potato Head (voice: Don Rickles) assisted by Slinky Dog (voice: Jim Varney), and the bystanders include Bo Peep (voice: Annie Potts) and her sheep. The day is save...</td>\n",
              "      <td>1</td>\n",
              "      <td>imdb</td>\n",
              "    </tr>\n",
              "    <tr>\n",
              "      <th>1</th>\n",
              "      <td>2</td>\n",
              "      <td>tt0113189</td>\n",
              "      <td>The story opens in 1986, in the Cold War Soviet Union. British secret agent James Bond (Pierce Brosnan) and his fellow 00 agent, Alec Trevelyan (Sean Bean), have infiltrated a secret Soviet chemical weapons production facility with the intention of destroying it. After finding their target, a la...</td>\n",
              "      <td>2</td>\n",
              "      <td>imdb</td>\n",
              "    </tr>\n",
              "    <tr>\n",
              "      <th>2</th>\n",
              "      <td>3</td>\n",
              "      <td>tt0113101</td>\n",
              "      <td>The film begins with Ted the Bellhop (Tim Roth) in a room filled with hotel memorabilia, talking to Sam the Bellhop (Marc Lawrence) about what a bellhop is. It's New Year's Eve.\"The Missing Ingredient\" begins with a bunch of women (including Madonna and Lili Taylor) converging in the Honeymoon S...</td>\n",
              "      <td>3</td>\n",
              "      <td>imdb</td>\n",
              "    </tr>\n",
              "    <tr>\n",
              "      <th>3</th>\n",
              "      <td>4</td>\n",
              "      <td>tt0113161</td>\n",
              "      <td>Chilli Palmer (John Travolta) is a loan shark living in Miami, Florida. While sitting in a restaurant on an unusually cold day, he's approached by the cantankerous and egotistical Ray 'Bones' Barboni (Dennis Farina). Bones mocks Chilli's name in reference to the cold weather and leaves with his ...</td>\n",
              "      <td>4</td>\n",
              "      <td>imdb</td>\n",
              "    </tr>\n",
              "    <tr>\n",
              "      <th>4</th>\n",
              "      <td>5</td>\n",
              "      <td>tt0112722</td>\n",
              "      <td>After giving a guest lecture on criminal psychology at a local university, Dr. Helen Hudson, a respected field expert on serial killers, is cornered in the lecture hall's restroom by one of her previous subjects, Daryll Lee Cullum, who has escaped from prison. He kills a police officer and bruta...</td>\n",
              "      <td>5</td>\n",
              "      <td>imdb</td>\n",
              "    </tr>\n",
              "    <tr>\n",
              "      <th>...</th>\n",
              "      <td>...</td>\n",
              "      <td>...</td>\n",
              "      <td>...</td>\n",
              "      <td>...</td>\n",
              "      <td>...</td>\n",
              "    </tr>\n",
              "    <tr>\n",
              "      <th>1676</th>\n",
              "      <td>1678</td>\n",
              "      <td>NaN</td>\n",
              "      <td>The film opens on two human forms, which soon reveal themselves to be that of a young man and a frail old woman. They recline in a silence broken only by whispers and indistinguishable noises. The young man is the son (Alexei Ananishnov) who is taking care of his exhausted sick mother (Gudrun Ge...</td>\n",
              "      <td>1678</td>\n",
              "      <td>wiki</td>\n",
              "    </tr>\n",
              "    <tr>\n",
              "      <th>1677</th>\n",
              "      <td>1679</td>\n",
              "      <td>tt0120594</td>\n",
              "      <td>Alan (Jared Harris) is a schoolteacher in London who also moonlights as a jazz disc jockey for a hospital PA system.  One night after work, he goes to a bar and sees Beatrice (Asia Argento) a beautiful woman who is arguing with two men. Alan is immediately captivated by Beatrice and begins to pu...</td>\n",
              "      <td>1679</td>\n",
              "      <td>wiki</td>\n",
              "    </tr>\n",
              "    <tr>\n",
              "      <th>1678</th>\n",
              "      <td>1680</td>\n",
              "      <td>tt0120148</td>\n",
              "      <td>The film follows Helen Quilley (Gwyneth Paltrow), a young Englishwoman living in London who has just been fired from her public relations job. The plot splits into two parallel universes, based on the two paths her life could take depending on whether she catches a London Underground train or no...</td>\n",
              "      <td>1680</td>\n",
              "      <td>imdb</td>\n",
              "    </tr>\n",
              "    <tr>\n",
              "      <th>1679</th>\n",
              "      <td>1681</td>\n",
              "      <td>tt0111804</td>\n",
              "      <td>NaN</td>\n",
              "      <td>1681</td>\n",
              "      <td>wiki</td>\n",
              "    </tr>\n",
              "    <tr>\n",
              "      <th>1680</th>\n",
              "      <td>1682</td>\n",
              "      <td>tt0102855</td>\n",
              "      <td>NaN</td>\n",
              "      <td>1682</td>\n",
              "      <td>wiki</td>\n",
              "    </tr>\n",
              "  </tbody>\n",
              "</table>\n",
              "<p>1681 rows × 5 columns</p>\n",
              "</div>\n",
              "      <button class=\"colab-df-convert\" onclick=\"convertToInteractive('df-5175b190-87fa-41a4-b710-3a3701d5b807')\"\n",
              "              title=\"Convert this dataframe to an interactive table.\"\n",
              "              style=\"display:none;\">\n",
              "        \n",
              "  <svg xmlns=\"http://www.w3.org/2000/svg\" height=\"24px\"viewBox=\"0 0 24 24\"\n",
              "       width=\"24px\">\n",
              "    <path d=\"M0 0h24v24H0V0z\" fill=\"none\"/>\n",
              "    <path d=\"M18.56 5.44l.94 2.06.94-2.06 2.06-.94-2.06-.94-.94-2.06-.94 2.06-2.06.94zm-11 1L8.5 8.5l.94-2.06 2.06-.94-2.06-.94L8.5 2.5l-.94 2.06-2.06.94zm10 10l.94 2.06.94-2.06 2.06-.94-2.06-.94-.94-2.06-.94 2.06-2.06.94z\"/><path d=\"M17.41 7.96l-1.37-1.37c-.4-.4-.92-.59-1.43-.59-.52 0-1.04.2-1.43.59L10.3 9.45l-7.72 7.72c-.78.78-.78 2.05 0 2.83L4 21.41c.39.39.9.59 1.41.59.51 0 1.02-.2 1.41-.59l7.78-7.78 2.81-2.81c.8-.78.8-2.07 0-2.86zM5.41 20L4 18.59l7.72-7.72 1.47 1.35L5.41 20z\"/>\n",
              "  </svg>\n",
              "      </button>\n",
              "      \n",
              "  <style>\n",
              "    .colab-df-container {\n",
              "      display:flex;\n",
              "      flex-wrap:wrap;\n",
              "      gap: 12px;\n",
              "    }\n",
              "\n",
              "    .colab-df-convert {\n",
              "      background-color: #E8F0FE;\n",
              "      border: none;\n",
              "      border-radius: 50%;\n",
              "      cursor: pointer;\n",
              "      display: none;\n",
              "      fill: #1967D2;\n",
              "      height: 32px;\n",
              "      padding: 0 0 0 0;\n",
              "      width: 32px;\n",
              "    }\n",
              "\n",
              "    .colab-df-convert:hover {\n",
              "      background-color: #E2EBFA;\n",
              "      box-shadow: 0px 1px 2px rgba(60, 64, 67, 0.3), 0px 1px 3px 1px rgba(60, 64, 67, 0.15);\n",
              "      fill: #174EA6;\n",
              "    }\n",
              "\n",
              "    [theme=dark] .colab-df-convert {\n",
              "      background-color: #3B4455;\n",
              "      fill: #D2E3FC;\n",
              "    }\n",
              "\n",
              "    [theme=dark] .colab-df-convert:hover {\n",
              "      background-color: #434B5C;\n",
              "      box-shadow: 0px 1px 3px 1px rgba(0, 0, 0, 0.15);\n",
              "      filter: drop-shadow(0px 1px 2px rgba(0, 0, 0, 0.3));\n",
              "      fill: #FFFFFF;\n",
              "    }\n",
              "  </style>\n",
              "\n",
              "      <script>\n",
              "        const buttonEl =\n",
              "          document.querySelector('#df-5175b190-87fa-41a4-b710-3a3701d5b807 button.colab-df-convert');\n",
              "        buttonEl.style.display =\n",
              "          google.colab.kernel.accessAllowed ? 'block' : 'none';\n",
              "\n",
              "        async function convertToInteractive(key) {\n",
              "          const element = document.querySelector('#df-5175b190-87fa-41a4-b710-3a3701d5b807');\n",
              "          const dataTable =\n",
              "            await google.colab.kernel.invokeFunction('convertToInteractive',\n",
              "                                                     [key], {});\n",
              "          if (!dataTable) return;\n",
              "\n",
              "          const docLinkHtml = 'Like what you see? Visit the ' +\n",
              "            '<a target=\"_blank\" href=https://colab.research.google.com/notebooks/data_table.ipynb>data table notebook</a>'\n",
              "            + ' to learn more about interactive tables.';\n",
              "          element.innerHTML = '';\n",
              "          dataTable['output_type'] = 'display_data';\n",
              "          await google.colab.output.renderOutput(dataTable, element);\n",
              "          const docLink = document.createElement('div');\n",
              "          docLink.innerHTML = docLinkHtml;\n",
              "          element.appendChild(docLink);\n",
              "        }\n",
              "      </script>\n",
              "    </div>\n",
              "  </div>\n",
              "  "
            ]
          },
          "metadata": {},
          "execution_count": 4
        }
      ]
    },
    {
      "cell_type": "code",
      "source": [
        "movie_info"
      ],
      "metadata": {
        "colab": {
          "base_uri": "https://localhost:8080/",
          "height": 423
        },
        "id": "btvobywveDg-",
        "outputId": "2b145e84-32a9-48e4-dd6c-45083ac08884"
      },
      "execution_count": 5,
      "outputs": [
        {
          "output_type": "execute_result",
          "data": {
            "text/plain": [
              "      locale_id                                      title    id_imdb  \\\n",
              "0             1                           Toy Story (1995)  tt0114709   \n",
              "1             2                           GoldenEye (1995)  tt0113189   \n",
              "2             3                          Four Rooms (1995)  tt0113101   \n",
              "3             4                          Get Shorty (1995)  tt0113161   \n",
              "4             5                             Copycat (1995)  tt0112722   \n",
              "...         ...                                        ...        ...   \n",
              "1677       1678                          Mat' i syn (1997)        NaN   \n",
              "1678       1679                           B. Monkey (1998)  tt0120594   \n",
              "1679       1680                       Sliding Doors (1998)  tt0120148   \n",
              "1680       1681                        You So Crazy (1994)  tt0111804   \n",
              "1681       1682  Scream of Stone (Schrei aus Stein) (1991)  tt0102855   \n",
              "\n",
              "                                     genre_imdb  \n",
              "0     Animation|Adventure|Comedy|Family|Fantasy  \n",
              "1                     Action|Adventure|Thriller  \n",
              "2                                        Comedy  \n",
              "3                         Comedy|Crime|Thriller  \n",
              "4                        Drama|Mystery|Thriller  \n",
              "...                                         ...  \n",
              "1677                                        NaN  \n",
              "1678               Crime|Drama|Romance|Thriller  \n",
              "1679               Comedy|Drama|Fantasy|Romance  \n",
              "1680                         Documentary|Comedy  \n",
              "1681                                      Drama  \n",
              "\n",
              "[1682 rows x 4 columns]"
            ],
            "text/html": [
              "\n",
              "  <div id=\"df-82798675-1974-4f51-b4b6-feb6841fe64f\">\n",
              "    <div class=\"colab-df-container\">\n",
              "      <div>\n",
              "<style scoped>\n",
              "    .dataframe tbody tr th:only-of-type {\n",
              "        vertical-align: middle;\n",
              "    }\n",
              "\n",
              "    .dataframe tbody tr th {\n",
              "        vertical-align: top;\n",
              "    }\n",
              "\n",
              "    .dataframe thead th {\n",
              "        text-align: right;\n",
              "    }\n",
              "</style>\n",
              "<table border=\"1\" class=\"dataframe\">\n",
              "  <thead>\n",
              "    <tr style=\"text-align: right;\">\n",
              "      <th></th>\n",
              "      <th>locale_id</th>\n",
              "      <th>title</th>\n",
              "      <th>id_imdb</th>\n",
              "      <th>genre_imdb</th>\n",
              "    </tr>\n",
              "  </thead>\n",
              "  <tbody>\n",
              "    <tr>\n",
              "      <th>0</th>\n",
              "      <td>1</td>\n",
              "      <td>Toy Story (1995)</td>\n",
              "      <td>tt0114709</td>\n",
              "      <td>Animation|Adventure|Comedy|Family|Fantasy</td>\n",
              "    </tr>\n",
              "    <tr>\n",
              "      <th>1</th>\n",
              "      <td>2</td>\n",
              "      <td>GoldenEye (1995)</td>\n",
              "      <td>tt0113189</td>\n",
              "      <td>Action|Adventure|Thriller</td>\n",
              "    </tr>\n",
              "    <tr>\n",
              "      <th>2</th>\n",
              "      <td>3</td>\n",
              "      <td>Four Rooms (1995)</td>\n",
              "      <td>tt0113101</td>\n",
              "      <td>Comedy</td>\n",
              "    </tr>\n",
              "    <tr>\n",
              "      <th>3</th>\n",
              "      <td>4</td>\n",
              "      <td>Get Shorty (1995)</td>\n",
              "      <td>tt0113161</td>\n",
              "      <td>Comedy|Crime|Thriller</td>\n",
              "    </tr>\n",
              "    <tr>\n",
              "      <th>4</th>\n",
              "      <td>5</td>\n",
              "      <td>Copycat (1995)</td>\n",
              "      <td>tt0112722</td>\n",
              "      <td>Drama|Mystery|Thriller</td>\n",
              "    </tr>\n",
              "    <tr>\n",
              "      <th>...</th>\n",
              "      <td>...</td>\n",
              "      <td>...</td>\n",
              "      <td>...</td>\n",
              "      <td>...</td>\n",
              "    </tr>\n",
              "    <tr>\n",
              "      <th>1677</th>\n",
              "      <td>1678</td>\n",
              "      <td>Mat' i syn (1997)</td>\n",
              "      <td>NaN</td>\n",
              "      <td>NaN</td>\n",
              "    </tr>\n",
              "    <tr>\n",
              "      <th>1678</th>\n",
              "      <td>1679</td>\n",
              "      <td>B. Monkey (1998)</td>\n",
              "      <td>tt0120594</td>\n",
              "      <td>Crime|Drama|Romance|Thriller</td>\n",
              "    </tr>\n",
              "    <tr>\n",
              "      <th>1679</th>\n",
              "      <td>1680</td>\n",
              "      <td>Sliding Doors (1998)</td>\n",
              "      <td>tt0120148</td>\n",
              "      <td>Comedy|Drama|Fantasy|Romance</td>\n",
              "    </tr>\n",
              "    <tr>\n",
              "      <th>1680</th>\n",
              "      <td>1681</td>\n",
              "      <td>You So Crazy (1994)</td>\n",
              "      <td>tt0111804</td>\n",
              "      <td>Documentary|Comedy</td>\n",
              "    </tr>\n",
              "    <tr>\n",
              "      <th>1681</th>\n",
              "      <td>1682</td>\n",
              "      <td>Scream of Stone (Schrei aus Stein) (1991)</td>\n",
              "      <td>tt0102855</td>\n",
              "      <td>Drama</td>\n",
              "    </tr>\n",
              "  </tbody>\n",
              "</table>\n",
              "<p>1682 rows × 4 columns</p>\n",
              "</div>\n",
              "      <button class=\"colab-df-convert\" onclick=\"convertToInteractive('df-82798675-1974-4f51-b4b6-feb6841fe64f')\"\n",
              "              title=\"Convert this dataframe to an interactive table.\"\n",
              "              style=\"display:none;\">\n",
              "        \n",
              "  <svg xmlns=\"http://www.w3.org/2000/svg\" height=\"24px\"viewBox=\"0 0 24 24\"\n",
              "       width=\"24px\">\n",
              "    <path d=\"M0 0h24v24H0V0z\" fill=\"none\"/>\n",
              "    <path d=\"M18.56 5.44l.94 2.06.94-2.06 2.06-.94-2.06-.94-.94-2.06-.94 2.06-2.06.94zm-11 1L8.5 8.5l.94-2.06 2.06-.94-2.06-.94L8.5 2.5l-.94 2.06-2.06.94zm10 10l.94 2.06.94-2.06 2.06-.94-2.06-.94-.94-2.06-.94 2.06-2.06.94z\"/><path d=\"M17.41 7.96l-1.37-1.37c-.4-.4-.92-.59-1.43-.59-.52 0-1.04.2-1.43.59L10.3 9.45l-7.72 7.72c-.78.78-.78 2.05 0 2.83L4 21.41c.39.39.9.59 1.41.59.51 0 1.02-.2 1.41-.59l7.78-7.78 2.81-2.81c.8-.78.8-2.07 0-2.86zM5.41 20L4 18.59l7.72-7.72 1.47 1.35L5.41 20z\"/>\n",
              "  </svg>\n",
              "      </button>\n",
              "      \n",
              "  <style>\n",
              "    .colab-df-container {\n",
              "      display:flex;\n",
              "      flex-wrap:wrap;\n",
              "      gap: 12px;\n",
              "    }\n",
              "\n",
              "    .colab-df-convert {\n",
              "      background-color: #E8F0FE;\n",
              "      border: none;\n",
              "      border-radius: 50%;\n",
              "      cursor: pointer;\n",
              "      display: none;\n",
              "      fill: #1967D2;\n",
              "      height: 32px;\n",
              "      padding: 0 0 0 0;\n",
              "      width: 32px;\n",
              "    }\n",
              "\n",
              "    .colab-df-convert:hover {\n",
              "      background-color: #E2EBFA;\n",
              "      box-shadow: 0px 1px 2px rgba(60, 64, 67, 0.3), 0px 1px 3px 1px rgba(60, 64, 67, 0.15);\n",
              "      fill: #174EA6;\n",
              "    }\n",
              "\n",
              "    [theme=dark] .colab-df-convert {\n",
              "      background-color: #3B4455;\n",
              "      fill: #D2E3FC;\n",
              "    }\n",
              "\n",
              "    [theme=dark] .colab-df-convert:hover {\n",
              "      background-color: #434B5C;\n",
              "      box-shadow: 0px 1px 3px 1px rgba(0, 0, 0, 0.15);\n",
              "      filter: drop-shadow(0px 1px 2px rgba(0, 0, 0, 0.3));\n",
              "      fill: #FFFFFF;\n",
              "    }\n",
              "  </style>\n",
              "\n",
              "      <script>\n",
              "        const buttonEl =\n",
              "          document.querySelector('#df-82798675-1974-4f51-b4b6-feb6841fe64f button.colab-df-convert');\n",
              "        buttonEl.style.display =\n",
              "          google.colab.kernel.accessAllowed ? 'block' : 'none';\n",
              "\n",
              "        async function convertToInteractive(key) {\n",
              "          const element = document.querySelector('#df-82798675-1974-4f51-b4b6-feb6841fe64f');\n",
              "          const dataTable =\n",
              "            await google.colab.kernel.invokeFunction('convertToInteractive',\n",
              "                                                     [key], {});\n",
              "          if (!dataTable) return;\n",
              "\n",
              "          const docLinkHtml = 'Like what you see? Visit the ' +\n",
              "            '<a target=\"_blank\" href=https://colab.research.google.com/notebooks/data_table.ipynb>data table notebook</a>'\n",
              "            + ' to learn more about interactive tables.';\n",
              "          element.innerHTML = '';\n",
              "          dataTable['output_type'] = 'display_data';\n",
              "          await google.colab.output.renderOutput(dataTable, element);\n",
              "          const docLink = document.createElement('div');\n",
              "          docLink.innerHTML = docLinkHtml;\n",
              "          element.appendChild(docLink);\n",
              "        }\n",
              "      </script>\n",
              "    </div>\n",
              "  </div>\n",
              "  "
            ]
          },
          "metadata": {},
          "execution_count": 5
        }
      ]
    },
    {
      "cell_type": "code",
      "source": [
        "movie_synopsis = movie_synopsis.rename(columns={'local_id':'locale_id'})\n",
        "movies = pd.merge(movie_synopsis, movie_info[['locale_id','title', 'id_imdb', 'genre_imdb']], on = 'locale_id')\n",
        "movies = movies.drop(['id_imdb', '_key', 'plot_source', 'imdbID'], axis=1)"
      ],
      "metadata": {
        "id": "k-bunZlSeFUb"
      },
      "execution_count": 6,
      "outputs": []
    },
    {
      "cell_type": "code",
      "source": [
        "movies.dropna(axis = 0 ,inplace = True)\n",
        "movies = movies.reset_index()"
      ],
      "metadata": {
        "id": "Zf7Ygx36eH7c"
      },
      "execution_count": 7,
      "outputs": []
    },
    {
      "cell_type": "code",
      "source": [
        "genres = []\n",
        "for i in movies['genre_imdb']:\n",
        "  genres.append(i.split(\"|\"))\n",
        "movies['genre_imdb'] = genres"
      ],
      "metadata": {
        "id": "32Mh89MCeJ5w"
      },
      "execution_count": 8,
      "outputs": []
    },
    {
      "cell_type": "code",
      "source": [
        "movies"
      ],
      "metadata": {
        "colab": {
          "base_uri": "https://localhost:8080/",
          "height": 641
        },
        "id": "TwY_KnxReLiR",
        "outputId": "ffc11481-5b1f-4ed4-8591-dbb45c3f55e4"
      },
      "execution_count": 9,
      "outputs": [
        {
          "output_type": "execute_result",
          "data": {
            "text/plain": [
              "      index  \\\n",
              "0         0   \n",
              "1         1   \n",
              "2         2   \n",
              "3         3   \n",
              "4         4   \n",
              "...     ...   \n",
              "1404   1671   \n",
              "1405   1674   \n",
              "1406   1675   \n",
              "1407   1677   \n",
              "1408   1678   \n",
              "\n",
              "                                                                                                                                                                                                                                                                                                    plot_synopsis  \\\n",
              "0     A boy called Andy Davis (voice: John Morris) uses his toys to act out a bank robbery. The bank is a cardboard box, the robber is Mr. Potato Head (voice: Don Rickles) assisted by Slinky Dog (voice: Jim Varney), and the bystanders include Bo Peep (voice: Annie Potts) and her sheep. The day is save...   \n",
              "1     The story opens in 1986, in the Cold War Soviet Union. British secret agent James Bond (Pierce Brosnan) and his fellow 00 agent, Alec Trevelyan (Sean Bean), have infiltrated a secret Soviet chemical weapons production facility with the intention of destroying it. After finding their target, a la...   \n",
              "2     The film begins with Ted the Bellhop (Tim Roth) in a room filled with hotel memorabilia, talking to Sam the Bellhop (Marc Lawrence) about what a bellhop is. It's New Year's Eve.\"The Missing Ingredient\" begins with a bunch of women (including Madonna and Lili Taylor) converging in the Honeymoon S...   \n",
              "3     Chilli Palmer (John Travolta) is a loan shark living in Miami, Florida. While sitting in a restaurant on an unusually cold day, he's approached by the cantankerous and egotistical Ray 'Bones' Barboni (Dennis Farina). Bones mocks Chilli's name in reference to the cold weather and leaves with his ...   \n",
              "4     After giving a guest lecture on criminal psychology at a local university, Dr. Helen Hudson, a respected field expert on serial killers, is cornered in the lecture hall's restroom by one of her previous subjects, Daryll Lee Cullum, who has escaped from prison. He kills a police officer and bruta...   \n",
              "...                                                                                                                                                                                                                                                                                                           ...   \n",
              "1404  There's this detective dude who's hired to follow some guy's wife because she keeps getting herself into trouble. She suffers from severe headaches and loss of memory. She never seems to know what's going on. it turns out she's got a split personality. This split personality is the one getting h...   \n",
              "1405  Jeremy Collier is a returning Vietnam War hero whose experiences leave him unable to adjust to the quiet realities of small-town life. Bob Collier, Jeremy's father, expects his son to go back to his life as it was, without understanding the problems of PTSD. Jeremy's mother, Maurine, treats him ...   \n",
              "1406  Angel celebrates the birth of his daughter by taking his first hit of crack cocaine. With the hesitant support of his wife, Monika, he joins a friend of his to deal drugs for a short time—enough time to get out of debt and buy some nice things for the family. Three years later, Angel is still de...   \n",
              "1407  Alan (Jared Harris) is a schoolteacher in London who also moonlights as a jazz disc jockey for a hospital PA system.  One night after work, he goes to a bar and sees Beatrice (Asia Argento) a beautiful woman who is arguing with two men. Alan is immediately captivated by Beatrice and begins to pu...   \n",
              "1408  The film follows Helen Quilley (Gwyneth Paltrow), a young Englishwoman living in London who has just been fired from her public relations job. The plot splits into two parallel universes, based on the two paths her life could take depending on whether she catches a London Underground train or no...   \n",
              "\n",
              "      locale_id                    title  \\\n",
              "0             1         Toy Story (1995)   \n",
              "1             2         GoldenEye (1995)   \n",
              "2             3        Four Rooms (1995)   \n",
              "3             4        Get Shorty (1995)   \n",
              "4             5           Copycat (1995)   \n",
              "...         ...                      ...   \n",
              "1404       1673            Mirage (1995)   \n",
              "1405       1676  War at Home, The (1996)   \n",
              "1406       1677     Sweet Nothing (1995)   \n",
              "1407       1679         B. Monkey (1998)   \n",
              "1408       1680     Sliding Doors (1998)   \n",
              "\n",
              "                                           genre_imdb  \n",
              "0     [Animation, Adventure, Comedy, Family, Fantasy]  \n",
              "1                       [Action, Adventure, Thriller]  \n",
              "2                                            [Comedy]  \n",
              "3                           [Comedy, Crime, Thriller]  \n",
              "4                          [Drama, Mystery, Thriller]  \n",
              "...                                               ...  \n",
              "1404                               [Action, Thriller]  \n",
              "1405                                          [Drama]  \n",
              "1406                                          [Drama]  \n",
              "1407                [Crime, Drama, Romance, Thriller]  \n",
              "1408                [Comedy, Drama, Fantasy, Romance]  \n",
              "\n",
              "[1409 rows x 5 columns]"
            ],
            "text/html": [
              "\n",
              "  <div id=\"df-64f8ddb7-075a-4a0f-b8b7-1476de19a89f\">\n",
              "    <div class=\"colab-df-container\">\n",
              "      <div>\n",
              "<style scoped>\n",
              "    .dataframe tbody tr th:only-of-type {\n",
              "        vertical-align: middle;\n",
              "    }\n",
              "\n",
              "    .dataframe tbody tr th {\n",
              "        vertical-align: top;\n",
              "    }\n",
              "\n",
              "    .dataframe thead th {\n",
              "        text-align: right;\n",
              "    }\n",
              "</style>\n",
              "<table border=\"1\" class=\"dataframe\">\n",
              "  <thead>\n",
              "    <tr style=\"text-align: right;\">\n",
              "      <th></th>\n",
              "      <th>index</th>\n",
              "      <th>plot_synopsis</th>\n",
              "      <th>locale_id</th>\n",
              "      <th>title</th>\n",
              "      <th>genre_imdb</th>\n",
              "    </tr>\n",
              "  </thead>\n",
              "  <tbody>\n",
              "    <tr>\n",
              "      <th>0</th>\n",
              "      <td>0</td>\n",
              "      <td>A boy called Andy Davis (voice: John Morris) uses his toys to act out a bank robbery. The bank is a cardboard box, the robber is Mr. Potato Head (voice: Don Rickles) assisted by Slinky Dog (voice: Jim Varney), and the bystanders include Bo Peep (voice: Annie Potts) and her sheep. The day is save...</td>\n",
              "      <td>1</td>\n",
              "      <td>Toy Story (1995)</td>\n",
              "      <td>[Animation, Adventure, Comedy, Family, Fantasy]</td>\n",
              "    </tr>\n",
              "    <tr>\n",
              "      <th>1</th>\n",
              "      <td>1</td>\n",
              "      <td>The story opens in 1986, in the Cold War Soviet Union. British secret agent James Bond (Pierce Brosnan) and his fellow 00 agent, Alec Trevelyan (Sean Bean), have infiltrated a secret Soviet chemical weapons production facility with the intention of destroying it. After finding their target, a la...</td>\n",
              "      <td>2</td>\n",
              "      <td>GoldenEye (1995)</td>\n",
              "      <td>[Action, Adventure, Thriller]</td>\n",
              "    </tr>\n",
              "    <tr>\n",
              "      <th>2</th>\n",
              "      <td>2</td>\n",
              "      <td>The film begins with Ted the Bellhop (Tim Roth) in a room filled with hotel memorabilia, talking to Sam the Bellhop (Marc Lawrence) about what a bellhop is. It's New Year's Eve.\"The Missing Ingredient\" begins with a bunch of women (including Madonna and Lili Taylor) converging in the Honeymoon S...</td>\n",
              "      <td>3</td>\n",
              "      <td>Four Rooms (1995)</td>\n",
              "      <td>[Comedy]</td>\n",
              "    </tr>\n",
              "    <tr>\n",
              "      <th>3</th>\n",
              "      <td>3</td>\n",
              "      <td>Chilli Palmer (John Travolta) is a loan shark living in Miami, Florida. While sitting in a restaurant on an unusually cold day, he's approached by the cantankerous and egotistical Ray 'Bones' Barboni (Dennis Farina). Bones mocks Chilli's name in reference to the cold weather and leaves with his ...</td>\n",
              "      <td>4</td>\n",
              "      <td>Get Shorty (1995)</td>\n",
              "      <td>[Comedy, Crime, Thriller]</td>\n",
              "    </tr>\n",
              "    <tr>\n",
              "      <th>4</th>\n",
              "      <td>4</td>\n",
              "      <td>After giving a guest lecture on criminal psychology at a local university, Dr. Helen Hudson, a respected field expert on serial killers, is cornered in the lecture hall's restroom by one of her previous subjects, Daryll Lee Cullum, who has escaped from prison. He kills a police officer and bruta...</td>\n",
              "      <td>5</td>\n",
              "      <td>Copycat (1995)</td>\n",
              "      <td>[Drama, Mystery, Thriller]</td>\n",
              "    </tr>\n",
              "    <tr>\n",
              "      <th>...</th>\n",
              "      <td>...</td>\n",
              "      <td>...</td>\n",
              "      <td>...</td>\n",
              "      <td>...</td>\n",
              "      <td>...</td>\n",
              "    </tr>\n",
              "    <tr>\n",
              "      <th>1404</th>\n",
              "      <td>1671</td>\n",
              "      <td>There's this detective dude who's hired to follow some guy's wife because she keeps getting herself into trouble. She suffers from severe headaches and loss of memory. She never seems to know what's going on. it turns out she's got a split personality. This split personality is the one getting h...</td>\n",
              "      <td>1673</td>\n",
              "      <td>Mirage (1995)</td>\n",
              "      <td>[Action, Thriller]</td>\n",
              "    </tr>\n",
              "    <tr>\n",
              "      <th>1405</th>\n",
              "      <td>1674</td>\n",
              "      <td>Jeremy Collier is a returning Vietnam War hero whose experiences leave him unable to adjust to the quiet realities of small-town life. Bob Collier, Jeremy's father, expects his son to go back to his life as it was, without understanding the problems of PTSD. Jeremy's mother, Maurine, treats him ...</td>\n",
              "      <td>1676</td>\n",
              "      <td>War at Home, The (1996)</td>\n",
              "      <td>[Drama]</td>\n",
              "    </tr>\n",
              "    <tr>\n",
              "      <th>1406</th>\n",
              "      <td>1675</td>\n",
              "      <td>Angel celebrates the birth of his daughter by taking his first hit of crack cocaine. With the hesitant support of his wife, Monika, he joins a friend of his to deal drugs for a short time—enough time to get out of debt and buy some nice things for the family. Three years later, Angel is still de...</td>\n",
              "      <td>1677</td>\n",
              "      <td>Sweet Nothing (1995)</td>\n",
              "      <td>[Drama]</td>\n",
              "    </tr>\n",
              "    <tr>\n",
              "      <th>1407</th>\n",
              "      <td>1677</td>\n",
              "      <td>Alan (Jared Harris) is a schoolteacher in London who also moonlights as a jazz disc jockey for a hospital PA system.  One night after work, he goes to a bar and sees Beatrice (Asia Argento) a beautiful woman who is arguing with two men. Alan is immediately captivated by Beatrice and begins to pu...</td>\n",
              "      <td>1679</td>\n",
              "      <td>B. Monkey (1998)</td>\n",
              "      <td>[Crime, Drama, Romance, Thriller]</td>\n",
              "    </tr>\n",
              "    <tr>\n",
              "      <th>1408</th>\n",
              "      <td>1678</td>\n",
              "      <td>The film follows Helen Quilley (Gwyneth Paltrow), a young Englishwoman living in London who has just been fired from her public relations job. The plot splits into two parallel universes, based on the two paths her life could take depending on whether she catches a London Underground train or no...</td>\n",
              "      <td>1680</td>\n",
              "      <td>Sliding Doors (1998)</td>\n",
              "      <td>[Comedy, Drama, Fantasy, Romance]</td>\n",
              "    </tr>\n",
              "  </tbody>\n",
              "</table>\n",
              "<p>1409 rows × 5 columns</p>\n",
              "</div>\n",
              "      <button class=\"colab-df-convert\" onclick=\"convertToInteractive('df-64f8ddb7-075a-4a0f-b8b7-1476de19a89f')\"\n",
              "              title=\"Convert this dataframe to an interactive table.\"\n",
              "              style=\"display:none;\">\n",
              "        \n",
              "  <svg xmlns=\"http://www.w3.org/2000/svg\" height=\"24px\"viewBox=\"0 0 24 24\"\n",
              "       width=\"24px\">\n",
              "    <path d=\"M0 0h24v24H0V0z\" fill=\"none\"/>\n",
              "    <path d=\"M18.56 5.44l.94 2.06.94-2.06 2.06-.94-2.06-.94-.94-2.06-.94 2.06-2.06.94zm-11 1L8.5 8.5l.94-2.06 2.06-.94-2.06-.94L8.5 2.5l-.94 2.06-2.06.94zm10 10l.94 2.06.94-2.06 2.06-.94-2.06-.94-.94-2.06-.94 2.06-2.06.94z\"/><path d=\"M17.41 7.96l-1.37-1.37c-.4-.4-.92-.59-1.43-.59-.52 0-1.04.2-1.43.59L10.3 9.45l-7.72 7.72c-.78.78-.78 2.05 0 2.83L4 21.41c.39.39.9.59 1.41.59.51 0 1.02-.2 1.41-.59l7.78-7.78 2.81-2.81c.8-.78.8-2.07 0-2.86zM5.41 20L4 18.59l7.72-7.72 1.47 1.35L5.41 20z\"/>\n",
              "  </svg>\n",
              "      </button>\n",
              "      \n",
              "  <style>\n",
              "    .colab-df-container {\n",
              "      display:flex;\n",
              "      flex-wrap:wrap;\n",
              "      gap: 12px;\n",
              "    }\n",
              "\n",
              "    .colab-df-convert {\n",
              "      background-color: #E8F0FE;\n",
              "      border: none;\n",
              "      border-radius: 50%;\n",
              "      cursor: pointer;\n",
              "      display: none;\n",
              "      fill: #1967D2;\n",
              "      height: 32px;\n",
              "      padding: 0 0 0 0;\n",
              "      width: 32px;\n",
              "    }\n",
              "\n",
              "    .colab-df-convert:hover {\n",
              "      background-color: #E2EBFA;\n",
              "      box-shadow: 0px 1px 2px rgba(60, 64, 67, 0.3), 0px 1px 3px 1px rgba(60, 64, 67, 0.15);\n",
              "      fill: #174EA6;\n",
              "    }\n",
              "\n",
              "    [theme=dark] .colab-df-convert {\n",
              "      background-color: #3B4455;\n",
              "      fill: #D2E3FC;\n",
              "    }\n",
              "\n",
              "    [theme=dark] .colab-df-convert:hover {\n",
              "      background-color: #434B5C;\n",
              "      box-shadow: 0px 1px 3px 1px rgba(0, 0, 0, 0.15);\n",
              "      filter: drop-shadow(0px 1px 2px rgba(0, 0, 0, 0.3));\n",
              "      fill: #FFFFFF;\n",
              "    }\n",
              "  </style>\n",
              "\n",
              "      <script>\n",
              "        const buttonEl =\n",
              "          document.querySelector('#df-64f8ddb7-075a-4a0f-b8b7-1476de19a89f button.colab-df-convert');\n",
              "        buttonEl.style.display =\n",
              "          google.colab.kernel.accessAllowed ? 'block' : 'none';\n",
              "\n",
              "        async function convertToInteractive(key) {\n",
              "          const element = document.querySelector('#df-64f8ddb7-075a-4a0f-b8b7-1476de19a89f');\n",
              "          const dataTable =\n",
              "            await google.colab.kernel.invokeFunction('convertToInteractive',\n",
              "                                                     [key], {});\n",
              "          if (!dataTable) return;\n",
              "\n",
              "          const docLinkHtml = 'Like what you see? Visit the ' +\n",
              "            '<a target=\"_blank\" href=https://colab.research.google.com/notebooks/data_table.ipynb>data table notebook</a>'\n",
              "            + ' to learn more about interactive tables.';\n",
              "          element.innerHTML = '';\n",
              "          dataTable['output_type'] = 'display_data';\n",
              "          await google.colab.output.renderOutput(dataTable, element);\n",
              "          const docLink = document.createElement('div');\n",
              "          docLink.innerHTML = docLinkHtml;\n",
              "          element.appendChild(docLink);\n",
              "        }\n",
              "      </script>\n",
              "    </div>\n",
              "  </div>\n",
              "  "
            ]
          },
          "metadata": {},
          "execution_count": 9
        }
      ]
    },
    {
      "cell_type": "code",
      "source": [
        "# get all genre tags in a list\n",
        "all_genres = sum(genres,[])\n",
        "all_genres = nltk.FreqDist(all_genres)\n",
        "all_genres_df = pd.DataFrame({'Genre': list(all_genres.keys()), 'Count': list(all_genres.values())})"
      ],
      "metadata": {
        "id": "RU2WE-r2eM7b"
      },
      "execution_count": 11,
      "outputs": []
    },
    {
      "cell_type": "code",
      "source": [
        "g = all_genres_df.nlargest(columns=\"Count\", n = 50) \n",
        "plt.figure(figsize=(12,15))\n",
        "ax = sns.barplot(data=g, x= \"Count\", y = \"Genre\")\n",
        "ax.set(ylabel = 'Count')\n",
        "plt.show()"
      ],
      "metadata": {
        "colab": {
          "base_uri": "https://localhost:8080/",
          "height": 877
        },
        "id": "Lelce4hgePq6",
        "outputId": "953e144e-04fb-4412-ee89-3cd4730ee9ed"
      },
      "execution_count": 12,
      "outputs": [
        {
          "output_type": "display_data",
          "data": {
            "text/plain": [
              "<Figure size 864x1080 with 1 Axes>"
            ],
            "image/png": "[encoded data removed]"
          },
          "metadata": {
            "needs_background": "light"
          }
        }
      ]
    },
    {
      "cell_type": "code",
      "source": [
        "# function for text cleaning\n",
        "def clean_text(text):\n",
        "    # remove backslash-apostrophe\n",
        "    text = re.sub(\"\\'\", \"\", text)\n",
        "    # remove everything alphabets\n",
        "    text = re.sub(\"[^a-zA-Z]\",\" \",text)\n",
        "    # remove whitespaces\n",
        "    text = ' '.join(text.split())\n",
        "    # convert text to lowercase\n",
        "    text = text.lower()\n",
        "    \n",
        "    return text"
      ],
      "metadata": {
        "id": "JzDbCzz1eUuv"
      },
      "execution_count": 13,
      "outputs": []
    },
    {
      "cell_type": "code",
      "source": [
        "movies['clean_plot'] = movies['plot_synopsis'].apply(lambda x: clean_text(x))\n",
        "movies[['plot_synopsis', 'clean_plot']].sample(3)"
      ],
      "metadata": {
        "colab": {
          "base_uri": "https://localhost:8080/",
          "height": 291
        },
        "id": "R_kPQ_KYeWUj",
        "outputId": "6bd5f6fc-7de4-43bc-a5fd-49465b0955cc"
      },
      "execution_count": 14,
      "outputs": [
        {
          "output_type": "execute_result",
          "data": {
            "text/plain": [
              "                                                                                                                                                                                                                                                                                                    plot_synopsis  \\\n",
              "1173  Delta of Venus is the sultry adventure of Elena Martin (Audie England), a young female American writer in Paris during the dawn of WWII. All of the stories Elena writes involves her as the star of her own erotic adventures which are secretly contracted by her lover, Lawrence Walters (Costas Mand...   \n",
              "473   In 1953, 10-year-old Larry Flynt is selling moonshine in Kentucky. Twenty years later, Flynt (Woody Harrelson) and his younger brother, Jimmy (Brett Harrelson) run the Hustler Go-Go club in Cincinnati. With profits down, Flynt decides to publish a newsletter for the club, the first Hustler magaz...   \n",
              "102   The Truth About Cats and Dogs is the story of two youngish women with good hearts and insecurity, who live in the same building. One is an intelligent brunette veterinarian of average looks, with her own radio show about caring for pets; the other is a blonde beginner fashion model of modest int...   \n",
              "\n",
              "                                                                                                                                                                                                                                                                                                       clean_plot  \n",
              "1173  delta of venus is the sultry adventure of elena martin audie england a young female american writer in paris during the dawn of wwii all of the stories elena writes involves her as the star of her own erotic adventures which are secretly contracted by her lover lawrence walters costas mandylor f...  \n",
              "473   in year old larry flynt is selling moonshine in kentucky twenty years later flynt woody harrelson and his younger brother jimmy brett harrelson run the hustler go go club in cincinnati with profits down flynt decides to publish a newsletter for the club the first hustler magazine with nude pictu...  \n",
              "102   the truth about cats and dogs is the story of two youngish women with good hearts and insecurity who live in the same building one is an intelligent brunette veterinarian of average looks with her own radio show about caring for pets the other is a blonde beginner fashion model of modest intelle...  "
            ],
            "text/html": [
              "\n",
              "  <div id=\"df-0c87c6be-2f4b-41b6-9715-84aaab6d3fa3\">\n",
              "    <div class=\"colab-df-container\">\n",
              "      <div>\n",
              "<style scoped>\n",
              "    .dataframe tbody tr th:only-of-type {\n",
              "        vertical-align: middle;\n",
              "    }\n",
              "\n",
              "    .dataframe tbody tr th {\n",
              "        vertical-align: top;\n",
              "    }\n",
              "\n",
              "    .dataframe thead th {\n",
              "        text-align: right;\n",
              "    }\n",
              "</style>\n",
              "<table border=\"1\" class=\"dataframe\">\n",
              "  <thead>\n",
              "    <tr style=\"text-align: right;\">\n",
              "      <th></th>\n",
              "      <th>plot_synopsis</th>\n",
              "      <th>clean_plot</th>\n",
              "    </tr>\n",
              "  </thead>\n",
              "  <tbody>\n",
              "    <tr>\n",
              "      <th>1173</th>\n",
              "      <td>Delta of Venus is the sultry adventure of Elena Martin (Audie England), a young female American writer in Paris during the dawn of WWII. All of the stories Elena writes involves her as the star of her own erotic adventures which are secretly contracted by her lover, Lawrence Walters (Costas Mand...</td>\n",
              "      <td>delta of venus is the sultry adventure of elena martin audie england a young female american writer in paris during the dawn of wwii all of the stories elena writes involves her as the star of her own erotic adventures which are secretly contracted by her lover lawrence walters costas mandylor f...</td>\n",
              "    </tr>\n",
              "    <tr>\n",
              "      <th>473</th>\n",
              "      <td>In 1953, 10-year-old Larry Flynt is selling moonshine in Kentucky. Twenty years later, Flynt (Woody Harrelson) and his younger brother, Jimmy (Brett Harrelson) run the Hustler Go-Go club in Cincinnati. With profits down, Flynt decides to publish a newsletter for the club, the first Hustler magaz...</td>\n",
              "      <td>in year old larry flynt is selling moonshine in kentucky twenty years later flynt woody harrelson and his younger brother jimmy brett harrelson run the hustler go go club in cincinnati with profits down flynt decides to publish a newsletter for the club the first hustler magazine with nude pictu...</td>\n",
              "    </tr>\n",
              "    <tr>\n",
              "      <th>102</th>\n",
              "      <td>The Truth About Cats and Dogs is the story of two youngish women with good hearts and insecurity, who live in the same building. One is an intelligent brunette veterinarian of average looks, with her own radio show about caring for pets; the other is a blonde beginner fashion model of modest int...</td>\n",
              "      <td>the truth about cats and dogs is the story of two youngish women with good hearts and insecurity who live in the same building one is an intelligent brunette veterinarian of average looks with her own radio show about caring for pets the other is a blonde beginner fashion model of modest intelle...</td>\n",
              "    </tr>\n",
              "  </tbody>\n",
              "</table>\n",
              "</div>\n",
              "      <button class=\"colab-df-convert\" onclick=\"convertToInteractive('df-0c87c6be-2f4b-41b6-9715-84aaab6d3fa3')\"\n",
              "              title=\"Convert this dataframe to an interactive table.\"\n",
              "              style=\"display:none;\">\n",
              "        \n",
              "  <svg xmlns=\"http://www.w3.org/2000/svg\" height=\"24px\"viewBox=\"0 0 24 24\"\n",
              "       width=\"24px\">\n",
              "    <path d=\"M0 0h24v24H0V0z\" fill=\"none\"/>\n",
              "    <path d=\"M18.56 5.44l.94 2.06.94-2.06 2.06-.94-2.06-.94-.94-2.06-.94 2.06-2.06.94zm-11 1L8.5 8.5l.94-2.06 2.06-.94-2.06-.94L8.5 2.5l-.94 2.06-2.06.94zm10 10l.94 2.06.94-2.06 2.06-.94-2.06-.94-.94-2.06-.94 2.06-2.06.94z\"/><path d=\"M17.41 7.96l-1.37-1.37c-.4-.4-.92-.59-1.43-.59-.52 0-1.04.2-1.43.59L10.3 9.45l-7.72 7.72c-.78.78-.78 2.05 0 2.83L4 21.41c.39.39.9.59 1.41.59.51 0 1.02-.2 1.41-.59l7.78-7.78 2.81-2.81c.8-.78.8-2.07 0-2.86zM5.41 20L4 18.59l7.72-7.72 1.47 1.35L5.41 20z\"/>\n",
              "  </svg>\n",
              "      </button>\n",
              "      \n",
              "  <style>\n",
              "    .colab-df-container {\n",
              "      display:flex;\n",
              "      flex-wrap:wrap;\n",
              "      gap: 12px;\n",
              "    }\n",
              "\n",
              "    .colab-df-convert {\n",
              "      background-color: #E8F0FE;\n",
              "      border: none;\n",
              "      border-radius: 50%;\n",
              "      cursor: pointer;\n",
              "      display: none;\n",
              "      fill: #1967D2;\n",
              "      height: 32px;\n",
              "      padding: 0 0 0 0;\n",
              "      width: 32px;\n",
              "    }\n",
              "\n",
              "    .colab-df-convert:hover {\n",
              "      background-color: #E2EBFA;\n",
              "      box-shadow: 0px 1px 2px rgba(60, 64, 67, 0.3), 0px 1px 3px 1px rgba(60, 64, 67, 0.15);\n",
              "      fill: #174EA6;\n",
              "    }\n",
              "\n",
              "    [theme=dark] .colab-df-convert {\n",
              "      background-color: #3B4455;\n",
              "      fill: #D2E3FC;\n",
              "    }\n",
              "\n",
              "    [theme=dark] .colab-df-convert:hover {\n",
              "      background-color: #434B5C;\n",
              "      box-shadow: 0px 1px 3px 1px rgba(0, 0, 0, 0.15);\n",
              "      filter: drop-shadow(0px 1px 2px rgba(0, 0, 0, 0.3));\n",
              "      fill: #FFFFFF;\n",
              "    }\n",
              "  </style>\n",
              "\n",
              "      <script>\n",
              "        const buttonEl =\n",
              "          document.querySelector('#df-0c87c6be-2f4b-41b6-9715-84aaab6d3fa3 button.colab-df-convert');\n",
              "        buttonEl.style.display =\n",
              "          google.colab.kernel.accessAllowed ? 'block' : 'none';\n",
              "\n",
              "        async function convertToInteractive(key) {\n",
              "          const element = document.querySelector('#df-0c87c6be-2f4b-41b6-9715-84aaab6d3fa3');\n",
              "          const dataTable =\n",
              "            await google.colab.kernel.invokeFunction('convertToInteractive',\n",
              "                                                     [key], {});\n",
              "          if (!dataTable) return;\n",
              "\n",
              "          const docLinkHtml = 'Like what you see? Visit the ' +\n",
              "            '<a target=\"_blank\" href=https://colab.research.google.com/notebooks/data_table.ipynb>data table notebook</a>'\n",
              "            + ' to learn more about interactive tables.';\n",
              "          element.innerHTML = '';\n",
              "          dataTable['output_type'] = 'display_data';\n",
              "          await google.colab.output.renderOutput(dataTable, element);\n",
              "          const docLink = document.createElement('div');\n",
              "          docLink.innerHTML = docLinkHtml;\n",
              "          element.appendChild(docLink);\n",
              "        }\n",
              "      </script>\n",
              "    </div>\n",
              "  </div>\n",
              "  "
            ]
          },
          "metadata": {},
          "execution_count": 14
        }
      ]
    },
    {
      "cell_type": "code",
      "source": [
        "def freq_words(x, terms = 30):\n",
        "  all_words = ' '.join([text for text in x])\n",
        "  all_words = all_words.split()\n",
        "  \n",
        "  fdist = nltk.FreqDist(all_words)\n",
        "  words_df = pd.DataFrame({'word':list(fdist.keys()), 'count':list(fdist.values())})\n",
        "  \n",
        "  # selecting top 20 most frequent words\n",
        "  d = words_df.nlargest(columns=\"count\", n = terms) \n",
        "  plt.figure(figsize=(12,15))\n",
        "  ax = sns.barplot(data=d, x= \"count\", y = \"word\")\n",
        "  ax.set(ylabel = 'Word')\n",
        "  plt.show()"
      ],
      "metadata": {
        "id": "glnCaTeveYeh"
      },
      "execution_count": 15,
      "outputs": []
    },
    {
      "cell_type": "code",
      "source": [
        "# print 100 most frequent words\n",
        "freq_words(movies['clean_plot'], 100)"
      ],
      "metadata": {
        "colab": {
          "base_uri": "https://localhost:8080/",
          "height": 877
        },
        "id": "xgvDIQ0ieZ0t",
        "outputId": "45020571-ae8a-45e9-92ff-005d2a7eabc5"
      },
      "execution_count": 16,
      "outputs": [
        {
          "output_type": "display_data",
          "data": {
            "text/plain": [
              "<Figure size 864x1080 with 1 Axes>"
            ],
            "image/png": "[encoded data removed]"
          },
          "metadata": {
            "needs_background": "light"
          }
        }
      ]
    },
    {
      "cell_type": "code",
      "source": [
        "nltk.download('stopwords')"
      ],
      "metadata": {
        "colab": {
          "base_uri": "https://localhost:8080/"
        },
        "id": "KqI-rtdwea5J",
        "outputId": "c7caff6a-5874-4ae2-f536-f28da69bc28e"
      },
      "execution_count": 17,
      "outputs": [
        {
          "output_type": "stream",
          "name": "stderr",
          "text": [
            "[nltk_data] Downloading package stopwords to /root/nltk_data...\n",
            "[nltk_data]   Unzipping corpora/stopwords.zip.\n"
          ]
        },
        {
          "output_type": "execute_result",
          "data": {
            "text/plain": [
              "True"
            ]
          },
          "metadata": {},
          "execution_count": 17
        }
      ]
    },
    {
      "cell_type": "code",
      "source": [
        "from nltk.corpus import stopwords\n",
        "stop_words = set(stopwords.words('english'))\n",
        "\n",
        "# function to remove stopwords\n",
        "def remove_stopwords(text):\n",
        "    no_stopword_text = [w for w in text.split() if not w in stop_words]\n",
        "    return ' '.join(no_stopword_text)\n",
        "  \n",
        "movies['clean_plot'] = movies['clean_plot'].apply(lambda x: remove_stopwords(x))"
      ],
      "metadata": {
        "id": "15xiXp6Qeb43"
      },
      "execution_count": 18,
      "outputs": []
    },
    {
      "cell_type": "code",
      "source": [
        "freq_words(movies['clean_plot'], 100)"
      ],
      "metadata": {
        "colab": {
          "base_uri": "https://localhost:8080/",
          "height": 877
        },
        "id": "rRK87pKvecsQ",
        "outputId": "474fd84a-0e15-435d-9e5d-e48632f8a78b"
      },
      "execution_count": 19,
      "outputs": [
        {
          "output_type": "display_data",
          "data": {
            "text/plain": [
              "<Figure size 864x1080 with 1 Axes>"
            ],
            "image/png": "[encoded data removed]"
          },
          "metadata": {
            "needs_background": "light"
          }
        }
      ]
    },
    {
      "cell_type": "code",
      "source": [
        "from sklearn.preprocessing import MultiLabelBinarizer\n",
        "\n",
        "multilabel_binarizer = MultiLabelBinarizer()\n",
        "multilabel_binarizer.fit(movies['genre_imdb'])\n",
        "\n",
        "# transform target variable\n",
        "y = multilabel_binarizer.transform(movies['genre_imdb'])"
      ],
      "metadata": {
        "id": "kKyMfok3ed2x"
      },
      "execution_count": 20,
      "outputs": []
    },
    {
      "cell_type": "code",
      "source": [
        "tfidf_vectorizer = TfidfVectorizer(max_df=0.8, max_features=10000)"
      ],
      "metadata": {
        "id": "0FazUJGHeewA"
      },
      "execution_count": 21,
      "outputs": []
    },
    {
      "cell_type": "code",
      "source": [
        "# split dataset into training and validation set\n",
        "xtrain, xval, ytrain, yval = train_test_split(movies['clean_plot'], y, test_size=0.2, random_state=9)"
      ],
      "metadata": {
        "id": "TTu14JoCefgC"
      },
      "execution_count": 22,
      "outputs": []
    },
    {
      "cell_type": "code",
      "source": [
        "# create TF-IDF features\n",
        "xtrain_tfidf = tfidf_vectorizer.fit_transform(xtrain)\n",
        "xval_tfidf = tfidf_vectorizer.transform(xval)"
      ],
      "metadata": {
        "id": "8cxF82KEegPD"
      },
      "execution_count": 23,
      "outputs": []
    },
    {
      "cell_type": "code",
      "source": [
        "from sklearn.linear_model import LogisticRegression\n",
        "from sklearn.multiclass import OneVsRestClassifier\n",
        "from sklearn.metrics import f1_score\n",
        "lr = LogisticRegression()\n",
        "clf = OneVsRestClassifier(lr)\n",
        "# fit model on train data\n",
        "clf.fit(xtrain_tfidf, ytrain)"
      ],
      "metadata": {
        "colab": {
          "base_uri": "https://localhost:8080/"
        },
        "id": "blXcgKBiehF_",
        "outputId": "cb776173-1736-4b06-ad57-5bd4391e4ebf"
      },
      "execution_count": 25,
      "outputs": [
        {
          "output_type": "execute_result",
          "data": {
            "text/plain": [
              "OneVsRestClassifier(estimator=LogisticRegression())"
            ]
          },
          "metadata": {},
          "execution_count": 25
        }
      ]
    },
    {
      "cell_type": "code",
      "source": [
        "# make predictions for validation set\n",
        "y_pred = clf.predict(xval_tfidf)\n",
        "\n",
        "# evaluate performance\n",
        "f1_score(yval, y_pred, average=\"micro\")"
      ],
      "metadata": {
        "colab": {
          "base_uri": "https://localhost:8080/"
        },
        "id": "kdLQC6cAehxR",
        "outputId": "9de8e1d4-536e-41c6-de51-425e59166274"
      },
      "execution_count": 29,
      "outputs": [
        {
          "output_type": "execute_result",
          "data": {
            "text/plain": [
              "0.3275705186533212"
            ]
          },
          "metadata": {},
          "execution_count": 29
        }
      ]
    },
    {
      "cell_type": "code",
      "source": [
        "# predict probabilities\n",
        "y_pred_prob = clf.predict_proba(xval_tfidf)\n",
        "\n",
        "t = 0.3 # threshold value\n",
        "y_pred_new = (y_pred_prob >= t).astype(int)\n",
        "\n",
        "# evaluate performance\n",
        "f1_score(yval, y_pred_new, average=\"micro\")"
      ],
      "metadata": {
        "colab": {
          "base_uri": "https://localhost:8080/"
        },
        "id": "n7S0z1C1eqjY",
        "outputId": "b1cce6e3-1737-4265-a5a4-e818df248de2"
      },
      "execution_count": 30,
      "outputs": [
        {
          "output_type": "execute_result",
          "data": {
            "text/plain": [
              "0.5094217024041586"
            ]
          },
          "metadata": {},
          "execution_count": 30
        }
      ]
    },
    {
      "cell_type": "code",
      "source": [
        "def infer_tags(q):\n",
        "    q = clean_text(q)\n",
        "    q = remove_stopwords(q)\n",
        "    q_vec = tfidf_vectorizer.transform([q])\n",
        "    q_pred = clf.predict(q_vec)\n",
        "    return multilabel_binarizer.inverse_transform(q_pred)"
      ],
      "metadata": {
        "id": "flJlD-F3erl6"
      },
      "execution_count": 31,
      "outputs": []
    },
    {
      "cell_type": "code",
      "source": [
        "for i in range(5):\n",
        "    k = xval.sample(1).index[0]\n",
        "    print(\"Movie: \", movies['title'][k], \"\\nPredicted genre: \", infer_tags(xval[k])), print(\"Actual genre: \",movies['genre_imdb'][k], \"\\n\")   "
      ],
      "metadata": {
        "colab": {
          "base_uri": "https://localhost:8080/"
        },
        "id": "w9H63jzCexnA",
        "outputId": "087a4bb6-5e5f-4b60-8103-9d48865f8d29"
      },
      "execution_count": 32,
      "outputs": [
        {
          "output_type": "stream",
          "name": "stdout",
          "text": [
            "Movie:  How to Make an American Quilt (1995) \n",
            "Predicted genre:  [('Drama',)]\n",
            "Actual genre:  ['Comedy', 'Drama', 'Romance'] \n",
            "\n",
            "Movie:  Boys, Les (1997) \n",
            "Predicted genre:  [('Comedy', 'Drama')]\n",
            "Actual genre:  ['Comedy', 'Drama', 'Sport'] \n",
            "\n",
            "Movie:  Family Thing, A (1996) \n",
            "Predicted genre:  [('Drama',)]\n",
            "Actual genre:  ['Comedy', 'Drama'] \n",
            "\n",
            "Movie:  Mina Tannenbaum (1994) \n",
            "Predicted genre:  [('Drama',)]\n",
            "Actual genre:  ['Drama'] \n",
            "\n",
            "Movie:  Yankee Zulu (1994) \n",
            "Predicted genre:  [('Drama',)]\n",
            "Actual genre:  ['Comedy', 'Drama'] \n",
            "\n"
          ]
        }
      ]
    },
    {
      "cell_type": "code",
      "source": [
        "from sklearn.cluster import DBSCAN\n",
        "from sklearn.metrics import silhouette_score\n",
        "for eps in [0.125,0.25,0.5,1,2,3,4,5]:\n",
        "    for min_samples in range(1,50):\n",
        "        db = DBSCAN(eps=eps, min_samples=min_samples)\n",
        "        y = db.fit_predict(xtrain_tfidf)\n",
        "        if len(set(db.labels_))>4 and len(set(db.labels_))<249:\n",
        "            print (str(eps) + \" \" + str(min_samples) + \": \"+ str(silhouette_score(xtrain_tfidf, db.labels_, metric='euclidean')))\n",
        "            "
      ],
      "metadata": {
        "colab": {
          "base_uri": "https://localhost:8080/"
        },
        "id": "xkYFlDyqey3r",
        "outputId": "9caeef34-a46c-47cf-df4c-8013f2aa1e68"
      },
      "execution_count": 33,
      "outputs": [
        {
          "output_type": "stream",
          "name": "stdout",
          "text": [
            "0.125 2: 0.004837730460302407\n",
            "0.25 2: 0.004837730460302407\n",
            "0.5 2: 0.003769860089987392\n",
            "1 2: 0.0072634027982073105\n",
            "1 3: -0.0032491386164149923\n"
          ]
        }
      ]
    },
    {
      "cell_type": "code",
      "source": [
        "db = DBSCAN(eps=1, min_samples=2).fit(xtrain_tfidf)\n",
        "\n",
        "core_samples_mask = np.zeros_like(db.labels_, dtype=bool)\n",
        "core_samples_mask[db.core_sample_indices_] = True\n",
        "dbscanlabels = db.labels_\n",
        "\n",
        "# Number of clusters in labels, ignoring noise if present.\n",
        "n_clusters_ = len(set(dbscanlabels)) - (1 if -1 in dbscanlabels else 0)\n",
        "\n",
        "print('Estimated number of clusters: %d' % n_clusters_)\n",
        "print(\"Silhouette Coefficient: %0.3f\"\n",
        "      % metrics.silhouette_score(xtrain_tfidf, dbscanlabels))"
      ],
      "metadata": {
        "colab": {
          "base_uri": "https://localhost:8080/"
        },
        "id": "Nbg_Lxpre9aJ",
        "outputId": "7884d28c-b6d9-4541-8d40-d1b360a8d0c9"
      },
      "execution_count": 34,
      "outputs": [
        {
          "output_type": "stream",
          "name": "stdout",
          "text": [
            "Estimated number of clusters: 41\n",
            "Silhouette Coefficient: 0.007\n"
          ]
        }
      ]
    },
    {
      "cell_type": "code",
      "source": [
        "db = DBSCAN(eps=1, min_samples=3).fit(xtrain_tfidf)\n",
        "\n",
        "core_samples_mask = np.zeros_like(db.labels_, dtype=bool)\n",
        "core_samples_mask[db.core_sample_indices_] = True\n",
        "dbscanlabels = db.labels_\n",
        "\n",
        "# Number of clusters in labels, ignoring noise if present.\n",
        "n_clusters_ = len(set(dbscanlabels)) - (1 if -1 in dbscanlabels else 0)\n",
        "\n",
        "print('Estimated number of clusters: %d' % n_clusters_)\n",
        "print(\"Silhouette Coefficient: %0.3f\"\n",
        "      % metrics.silhouette_score(xtrain_tfidf, dbscanlabels))"
      ],
      "metadata": {
        "colab": {
          "base_uri": "https://localhost:8080/"
        },
        "id": "hrTJlusCfB3R",
        "outputId": "489cad73-12f0-457b-fdbe-69686c44612a"
      },
      "execution_count": 37,
      "outputs": [
        {
          "output_type": "stream",
          "name": "stdout",
          "text": [
            "Estimated number of clusters: 6\n",
            "Silhouette Coefficient: -0.003\n"
          ]
        }
      ]
    },
    {
      "cell_type": "code",
      "source": [
        "db = DBSCAN(eps=0.5, min_samples=2).fit(xtrain_tfidf)\n",
        "\n",
        "core_samples_mask = np.zeros_like(db.labels_, dtype=bool)\n",
        "core_samples_mask[db.core_sample_indices_] = True\n",
        "dbscanlabels = db.labels_\n",
        "\n",
        "# Number of clusters in labels, ignoring noise if present.\n",
        "n_clusters_ = len(set(dbscanlabels)) - (1 if -1 in dbscanlabels else 0)\n",
        "\n",
        "print('Estimated number of clusters: %d' % n_clusters_)\n",
        "print(\"Silhouette Coefficient: %0.3f\"\n",
        "      % metrics.silhouette_score(xtrain_tfidf, dbscanlabels))"
      ],
      "metadata": {
        "colab": {
          "base_uri": "https://localhost:8080/"
        },
        "id": "dOTx9HU_e-r4",
        "outputId": "b033235e-b9be-4af2-912b-53d786604a23"
      },
      "execution_count": 35,
      "outputs": [
        {
          "output_type": "stream",
          "name": "stdout",
          "text": [
            "Estimated number of clusters: 11\n",
            "Silhouette Coefficient: 0.004\n"
          ]
        }
      ]
    },
    {
      "cell_type": "code",
      "source": [
        "db = DBSCAN(eps=1.25, min_samples=2).fit(xtrain_tfidf)\n",
        "\n",
        "core_samples_mask = np.zeros_like(db.labels_, dtype=bool)\n",
        "core_samples_mask[db.core_sample_indices_] = True\n",
        "dbscanlabels = db.labels_\n",
        "\n",
        "# Number of clusters in labels, ignoring noise if present.\n",
        "n_clusters_ = len(set(dbscanlabels)) - (1 if -1 in dbscanlabels else 0)\n",
        "\n",
        "print('Estimated number of clusters: %d' % n_clusters_)\n",
        "print(\"Silhouette Coefficient: %0.3f\"\n",
        "      % metrics.silhouette_score(xtrain_tfidf, dbscanlabels))"
      ],
      "metadata": {
        "colab": {
          "base_uri": "https://localhost:8080/"
        },
        "id": "cOMwnJ41fA1d",
        "outputId": "f7a92d91-2f5f-4c7a-b568-93001e12a577"
      },
      "execution_count": 36,
      "outputs": [
        {
          "output_type": "stream",
          "name": "stdout",
          "text": [
            "Estimated number of clusters: 88\n",
            "Silhouette Coefficient: 0.021\n"
          ]
        }
      ]
    },
    {
      "cell_type": "code",
      "source": [
        "db = DBSCAN(eps=1.25, min_samples=2).fit(xtrain_tfidf)\n",
        "y = DBSCAN(eps=1.25, min_samples=2).fit_predict(xval_tfidf)\n",
        "dbscanlabels= db.labels_\n",
        "\n",
        "np.unique(y)"
      ],
      "metadata": {
        "colab": {
          "base_uri": "https://localhost:8080/"
        },
        "id": "ncoJ6oIHfFbs",
        "outputId": "09a58175-56f5-4e06-802e-b123d36976e6"
      },
      "execution_count": 38,
      "outputs": [
        {
          "output_type": "execute_result",
          "data": {
            "text/plain": [
              "array([-1,  0,  1,  2,  3,  4,  5,  6,  7,  8,  9, 10, 11, 12, 13, 14, 15,\n",
              "       16, 17, 18, 19, 20, 21, 22, 23, 24, 25, 26, 27, 28, 29, 30, 31, 32,\n",
              "       33, 34, 35, 36, 37, 38, 39, 40, 41])"
            ]
          },
          "metadata": {},
          "execution_count": 38
        }
      ]
    },
    {
      "cell_type": "code",
      "source": [
        "movie_name = movies['title']\n",
        "y\n",
        "i, = np.where(y ==5)\n",
        "print(i)\n",
        "print(len(i))\n",
        "print(movie_name[i])"
      ],
      "metadata": {
        "colab": {
          "base_uri": "https://localhost:8080/"
        },
        "id": "stx2m38_fIqg",
        "outputId": "66359077-42ab-40df-f235-6e40d7efe7e7"
      },
      "execution_count": 39,
      "outputs": [
        {
          "output_type": "stream",
          "name": "stdout",
          "text": [
            "[16 18]\n",
            "2\n",
            "16    White Balloon, The (1995)\n",
            "18    Angels and Insects (1995)\n",
            "Name: title, dtype: object\n"
          ]
        }
      ]
    }
  ]
}